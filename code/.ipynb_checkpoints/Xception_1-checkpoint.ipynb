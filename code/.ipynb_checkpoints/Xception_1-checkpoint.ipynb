{
 "cells": [
  {
   "cell_type": "code",
   "execution_count": 15,
   "metadata": {},
   "outputs": [],
   "source": [
    "import matplotlib.pyplot as plt\n",
    "import cv2\n",
    "import glob, pylab, pandas as pd\n",
    "import numpy as np\n",
    "%matplotlib inline\n",
    "\n",
    "import time\n",
    "import os\n",
    "os.environ[\"KERAS_BACKEND\"] = \"plaidml.keras.backend\"\n",
    "\n",
    "from keras.preprocessing.image import ImageDataGenerator\n",
    "\n",
    "from tensorflow import keras\n",
    "\n",
    "from keras.applications import Xception\n",
    "\n",
    "from keras import callbacks\n",
    "\n",
    "from keras.models import Sequential\n",
    "from keras.layers import Activation, Dropout, Flatten, Conv2D, MaxPooling2D, Dense, Conv3D\n",
    "from keras.layers import GlobalAveragePooling2D\n",
    "from keras.layers import Dense\n",
    "from keras.models import Model\n"
   ]
  },
  {
   "cell_type": "code",
   "execution_count": 16,
   "metadata": {},
   "outputs": [],
   "source": [
    "df_detailed = pd.read_csv('./stage_2_detailed_class_info.csv')\n",
    "df_detailed['patientId'] =   df_detailed['patientId'].astype(str) + '.png' "
   ]
  },
  {
   "cell_type": "code",
   "execution_count": 17,
   "metadata": {},
   "outputs": [],
   "source": [
    "image_gen = ImageDataGenerator(rotation_range = 30,\n",
    "                              width_shift_range= 0.1, \n",
    "                              height_shift_range= 0.1,\n",
    "                              rescale= 1/255,\n",
    "                              shear_range=0.2,\n",
    "                              zoom_range= 0.2,\n",
    "                              horizontal_flip= True,\n",
    "                              fill_mode='nearest',\n",
    "                               validation_split =0.2\n",
    "                              )"
   ]
  },
  {
   "cell_type": "code",
   "execution_count": 18,
   "metadata": {},
   "outputs": [
    {
     "name": "stdout",
     "output_type": "stream",
     "text": [
      "Found 24015 validated image filenames belonging to 3 classes.\n"
     ]
    }
   ],
   "source": [
    "train_image_gen = image_gen.flow_from_dataframe(dataframe = df_detailed,\n",
    "                             directory= './train',\n",
    "                             x_col = 'patientId',\n",
    "                             y_col = 'class',\n",
    "                              target_size=(256,256),\n",
    "                              color_mode='rgb',\n",
    "                              classes= None,\n",
    "                              class_mode='categorical',\n",
    "                              batch_size=16,\n",
    "                              shuffle=True,\n",
    "                              subset = 'training'\n",
    "                             )"
   ]
  },
  {
   "cell_type": "code",
   "execution_count": 19,
   "metadata": {},
   "outputs": [
    {
     "name": "stdout",
     "output_type": "stream",
     "text": [
      "Found 6003 validated image filenames belonging to 3 classes.\n"
     ]
    }
   ],
   "source": [
    "test_image_gen = image_gen.flow_from_dataframe(dataframe = df_detailed,\n",
    "                             directory= './train',\n",
    "                             x_col = 'patientId',\n",
    "                             y_col = 'class',\n",
    "                              target_size=(256,256),\n",
    "                              color_mode='rgb',\n",
    "                              classes= None,\n",
    "                              class_mode='categorical',\n",
    "                              batch_size=16,\n",
    "                              shuffle=True,\n",
    "                              subset = 'validation'\n",
    "                             )"
   ]
  },
  {
   "cell_type": "code",
   "execution_count": 20,
   "metadata": {},
   "outputs": [],
   "source": [
    "orig_net = Xception(include_top=False, weights='imagenet', input_shape=(256,256,3)) \n",
    "\n",
    "\n",
    "filters = GlobalAveragePooling2D()(orig_net.output) \n",
    "\n",
    "\n",
    "classifiers = Dense(3, activation='softmax', bias_initializer='ones')(filters)  \n",
    "\n",
    "model = Model(inputs=orig_net.inputs, outputs=classifiers)  \n",
    "\n",
    "model.compile(loss='categorical_crossentropy',\n",
    "             optimizer = 'adam',\n",
    "             metrics = ['accuracy'])"
   ]
  },
  {
   "cell_type": "code",
   "execution_count": 21,
   "metadata": {},
   "outputs": [
    {
     "name": "stdout",
     "output_type": "stream",
     "text": [
      "Epoch 1/150\n"
     ]
    },
    {
     "name": "stderr",
     "output_type": "stream",
     "text": [
      "INFO:plaidml:Analyzing Ops: 1849 of 5836 operations complete\n",
      "INFO:plaidml:Analyzing Ops: 2883 of 5836 operations complete\n"
     ]
    },
    {
     "name": "stdout",
     "output_type": "stream",
     "text": [
      " 15/800 [..............................] - ETA: 44:50 - loss: nan - acc: 0.3125"
     ]
    },
    {
     "name": "stderr",
     "output_type": "stream",
     "text": [
      "INFO:plaidml:Analyzing Ops: 2003 of 5836 operations complete\n",
      "INFO:plaidml:Analyzing Ops: 2958 of 5836 operations complete\n"
     ]
    },
    {
     "name": "stdout",
     "output_type": "stream",
     "text": [
      "800/800 [==============================] - 1877s 2s/step - loss: nan - acc: 0.2945 - val_loss: nan - val_acc: 0.4233\n",
      "\n",
      "Epoch 00001: val_acc improved from -inf to 0.42329, saving model to Xception_2.h5\n",
      "Epoch 2/150\n",
      "800/800 [==============================] - 1816s 2s/step - loss: nan - acc: 0.2873 - val_loss: nan - val_acc: 0.4233\n",
      "\n",
      "Epoch 00002: val_acc did not improve from 0.42329\n",
      "Epoch 3/150\n",
      "800/800 [==============================] - 1980s 2s/step - loss: nan - acc: 0.2892 - val_loss: nan - val_acc: 0.4233\n",
      "\n",
      "Epoch 00003: val_acc did not improve from 0.42329\n",
      "Epoch 4/150\n",
      "800/800 [==============================] - 1849s 2s/step - loss: nan - acc: 0.2898 - val_loss: nan - val_acc: 0.4233\n",
      "\n",
      "Epoch 00004: val_acc did not improve from 0.42329\n",
      "Epoch 5/150\n",
      "800/800 [==============================] - 1696s 2s/step - loss: nan - acc: 0.2899 - val_loss: nan - val_acc: 0.4233\n",
      "\n",
      "Epoch 00005: val_acc improved from 0.42329 to 0.42329, saving model to Xception_2.h5\n",
      "Epoch 6/150\n",
      "800/800 [==============================] - 1690s 2s/step - loss: nan - acc: 0.2902 - val_loss: nan - val_acc: 0.4233\n",
      "\n",
      "Epoch 00006: val_acc did not improve from 0.42329\n",
      "Epoch 7/150\n",
      "800/800 [==============================] - 1696s 2s/step - loss: nan - acc: 0.2893 - val_loss: nan - val_acc: 0.4233\n",
      "\n",
      "Epoch 00007: val_acc did not improve from 0.42329\n",
      "Epoch 8/150\n",
      "800/800 [==============================] - 1690s 2s/step - loss: nan - acc: 0.2851 - val_loss: nan - val_acc: 0.4233\n",
      "\n",
      "Epoch 00008: val_acc did not improve from 0.42329\n",
      "Epoch 9/150\n",
      "800/800 [==============================] - 1703s 2s/step - loss: nan - acc: 0.2954 - val_loss: nan - val_acc: 0.4233\n",
      "\n",
      "Epoch 00009: val_acc did not improve from 0.42329\n",
      "Epoch 10/150\n",
      "800/800 [==============================] - 1696s 2s/step - loss: nan - acc: 0.2892 - val_loss: nan - val_acc: 0.4233\n",
      "\n",
      "Epoch 00010: val_acc did not improve from 0.42329\n",
      "Epoch 11/150\n",
      "800/800 [==============================] - 1698s 2s/step - loss: nan - acc: 0.2863 - val_loss: nan - val_acc: 0.4233\n",
      "\n",
      "Epoch 00011: val_acc did not improve from 0.42329\n",
      "Epoch 12/150\n",
      "800/800 [==============================] - 1704s 2s/step - loss: nan - acc: 0.2891 - val_loss: nan - val_acc: 0.4233\n",
      "\n",
      "Epoch 00012: val_acc did not improve from 0.42329\n",
      "Epoch 13/150\n",
      "800/800 [==============================] - 1705s 2s/step - loss: nan - acc: 0.2862 - val_loss: nan - val_acc: 0.4233\n",
      "\n",
      "Epoch 00013: val_acc did not improve from 0.42329\n",
      "Epoch 14/150\n",
      "800/800 [==============================] - 1700s 2s/step - loss: nan - acc: 0.2913 - val_loss: nan - val_acc: 0.4233\n",
      "\n",
      "Epoch 00014: val_acc did not improve from 0.42329\n",
      "Epoch 15/150\n",
      "800/800 [==============================] - 1705s 2s/step - loss: nan - acc: 0.2917 - val_loss: nan - val_acc: 0.4233\n",
      "\n",
      "Epoch 00015: val_acc did not improve from 0.42329\n",
      "Epoch 16/150\n",
      "800/800 [==============================] - 1711s 2s/step - loss: nan - acc: 0.2840 - val_loss: nan - val_acc: 0.4233\n",
      "\n",
      "Epoch 00016: val_acc did not improve from 0.42329\n",
      "Epoch 17/150\n",
      "800/800 [==============================] - 1702s 2s/step - loss: nan - acc: 0.2949 - val_loss: nan - val_acc: 0.4233\n",
      "\n",
      "Epoch 00017: val_acc did not improve from 0.42329\n",
      "Epoch 18/150\n",
      "800/800 [==============================] - 1703s 2s/step - loss: nan - acc: 0.2930 - val_loss: nan - val_acc: 0.4233\n",
      "\n",
      "Epoch 00018: val_acc did not improve from 0.42329\n",
      "Epoch 19/150\n",
      "800/800 [==============================] - 1702s 2s/step - loss: nan - acc: 0.2835 - val_loss: nan - val_acc: 0.4233\n",
      "\n",
      "Epoch 00019: val_acc did not improve from 0.42329\n",
      "Epoch 20/150\n",
      "800/800 [==============================] - 1700s 2s/step - loss: nan - acc: 0.2904 - val_loss: nan - val_acc: 0.4233\n",
      "\n",
      "Epoch 00020: val_acc did not improve from 0.42329\n",
      "Epoch 21/150\n",
      "800/800 [==============================] - 1716s 2s/step - loss: nan - acc: 0.2913 - val_loss: nan - val_acc: 0.4233\n",
      "\n",
      "Epoch 00021: val_acc did not improve from 0.42329\n",
      "Epoch 22/150\n",
      "800/800 [==============================] - 1721s 2s/step - loss: nan - acc: 0.2889 - val_loss: nan - val_acc: 0.4233\n",
      "\n",
      "Epoch 00022: val_acc did not improve from 0.42329\n",
      "Epoch 23/150\n",
      "800/800 [==============================] - 1706s 2s/step - loss: nan - acc: 0.2898 - val_loss: nan - val_acc: 0.4233\n",
      "\n",
      "Epoch 00023: val_acc did not improve from 0.42329\n",
      "Epoch 24/150\n",
      "800/800 [==============================] - 1700s 2s/step - loss: nan - acc: 0.2908 - val_loss: nan - val_acc: 0.4233\n",
      "\n",
      "Epoch 00024: val_acc did not improve from 0.42329\n",
      "Epoch 25/150\n",
      "800/800 [==============================] - 1688s 2s/step - loss: nan - acc: 0.2864 - val_loss: nan - val_acc: 0.4233\n",
      "\n",
      "Epoch 00025: val_acc did not improve from 0.42329\n",
      "Epoch 00025: early stopping\n"
     ]
    }
   ],
   "source": [
    "from keras.callbacks import ModelCheckpoint, EarlyStopping\n",
    "\n",
    "\n",
    "checkpoint = ModelCheckpoint(\"Xception_2.h5\", monitor='val_acc', \n",
    "                             verbose=1, \n",
    "                             save_best_only=True, \n",
    "                             save_weights_only=False, \n",
    "                             mode='auto',\n",
    "                             period=1)\n",
    "\n",
    "early = EarlyStopping(monitor='val_acc', \n",
    "                      min_delta=0, \n",
    "                      patience=20, \n",
    "                      verbose=1, \n",
    "                      mode='auto')\n",
    "\n",
    "results = model.fit_generator(train_image_gen, epochs =150, \n",
    "                              steps_per_epoch=800,\n",
    "                             validation_data=test_image_gen,  \n",
    "                              callbacks=[checkpoint,early])"
   ]
  },
  {
   "cell_type": "code",
   "execution_count": null,
   "metadata": {},
   "outputs": [],
   "source": []
  },
  {
   "cell_type": "code",
   "execution_count": null,
   "metadata": {},
   "outputs": [],
   "source": []
  }
 ],
 "metadata": {
  "kernelspec": {
   "display_name": "Python 3",
   "language": "python",
   "name": "python3"
  },
  "language_info": {
   "codemirror_mode": {
    "name": "ipython",
    "version": 3
   },
   "file_extension": ".py",
   "mimetype": "text/x-python",
   "name": "python",
   "nbconvert_exporter": "python",
   "pygments_lexer": "ipython3",
   "version": "3.7.6"
  }
 },
 "nbformat": 4,
 "nbformat_minor": 4
}
